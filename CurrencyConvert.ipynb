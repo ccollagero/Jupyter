{
 "cells": [
  {
   "cell_type": "code",
   "execution_count": 9,
   "id": "0529a857-136f-47de-944e-35ad484e9729",
   "metadata": {},
   "outputs": [
    {
     "name": "stdout",
     "output_type": "stream",
     "text": [
      "100 USD = 95.2 EUR\n",
      "100 USD = 1060.0 SEK\n",
      "100 USD = 474.0 RON\n",
      "100 USD = 710.0 DKK\n",
      "100 DKK = 149.0 SEK\n"
     ]
    }
   ],
   "source": [
    "import requests\n",
    "\n",
    "def convert_currency(amount, from_currency, to_currency):\n",
    "    url = f\"https://api.exchangerate-api.com/v4/latest/{from_currency}\"\n",
    "    response = requests.get(url).json()\n",
    "    rate = response[\"rates\"].get(to_currency)\n",
    "\n",
    "    return f\"{amount} {from_currency} = {round(amount * rate, 2)} {to_currency}\" if rate else \"Invalid currency code.\"\n",
    "\n",
    "# Example Usage\n",
    "print(convert_currency(100, \"USD\", \"EUR\"))\n",
    "print(convert_currency(100, \"USD\", \"SEK\"))\n",
    "print(convert_currency(100, \"USD\", \"RON\"))\n",
    "print(convert_currency(100, \"USD\", \"DKK\"))\n",
    "print(convert_currency(100, \"DKK\", \"SEK\"))"
   ]
  },
  {
   "cell_type": "code",
   "execution_count": null,
   "id": "65ad2f6d-7191-45a0-b7c2-8c65782afd4d",
   "metadata": {},
   "outputs": [],
   "source": []
  },
  {
   "cell_type": "code",
   "execution_count": null,
   "id": "6fb8dcb4-178d-4b94-b98c-6dd27cd981fa",
   "metadata": {},
   "outputs": [],
   "source": []
  }
 ],
 "metadata": {
  "kernelspec": {
   "display_name": "Python 3 (ipykernel)",
   "language": "python",
   "name": "python3"
  },
  "language_info": {
   "codemirror_mode": {
    "name": "ipython",
    "version": 3
   },
   "file_extension": ".py",
   "mimetype": "text/x-python",
   "name": "python",
   "nbconvert_exporter": "python",
   "pygments_lexer": "ipython3",
   "version": "3.9.20"
  }
 },
 "nbformat": 4,
 "nbformat_minor": 5
}
